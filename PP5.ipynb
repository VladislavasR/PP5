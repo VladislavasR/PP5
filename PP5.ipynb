{
  "nbformat": 4,
  "nbformat_minor": 0,
  "metadata": {
    "colab": {
      "provenance": [],
      "collapsed_sections": [],
      "authorship_tag": "ABX9TyM/dgTNXKoddRmDoWr+w6zK",
      "include_colab_link": true
    },
    "kernelspec": {
      "name": "python3",
      "display_name": "Python 3"
    },
    "language_info": {
      "name": "python"
    }
  },
  "cells": [
    {
      "cell_type": "markdown",
      "metadata": {
        "id": "view-in-github",
        "colab_type": "text"
      },
      "source": [
        "<a href=\"https://colab.research.google.com/github/VladislavasR/PP5/blob/main/PP5.ipynb\" target=\"_parent\"><img src=\"https://colab.research.google.com/assets/colab-badge.svg\" alt=\"Open In Colab\"/></a>"
      ]
    },
    {
      "cell_type": "markdown",
      "source": [
        "## Start of the PP5"
      ],
      "metadata": {
        "id": "JiqsUP4VcGMv"
      }
    },
    {
      "cell_type": "code",
      "source": [
        "import warnings\n",
        "warnings.filterwarnings(\"ignore\", category=FutureWarning)\n",
        "from IPython.display import Markdown, display\n",
        "\n",
        "import tensorflow as tf\n",
        "tf.__version__"
      ],
      "metadata": {
        "colab": {
          "base_uri": "https://localhost:8080/",
          "height": 35
        },
        "id": "8T3cI2oUFZer",
        "outputId": "787a21dc-885e-4d80-e979-c464f6f48381"
      },
      "execution_count": null,
      "outputs": [
        {
          "output_type": "execute_result",
          "data": {
            "text/plain": [
              "'2.8.2'"
            ],
            "application/vnd.google.colaboratory.intrinsic+json": {
              "type": "string"
            }
          },
          "metadata": {},
          "execution_count": 1
        }
      ]
    },
    {
      "cell_type": "code",
      "source": [
        "from sklearn.metrics import mean_absolute_error\n",
        "from sklearn.ensemble import RandomForestRegressor\n",
        "from sklearn.model_selection import train_test_split\n",
        "from sklearn.model_selection import cross_val_score, KFold\n",
        "from sklearn.model_selection import RandomizedSearchCV\n",
        "from sklearn.metrics import mean_squared_error\n",
        "from xgboost import XGBRegressor\n",
        "import matplotlib.pyplot as plt\n",
        "import seaborn as sns\n",
        "import numpy as np\n",
        "import pandas as pd\n",
        "\n",
        "from tensorflow import keras\n",
        "from sklearn.model_selection import train_test_split\n",
        "from tensorflow.keras.models import Sequential\n",
        "from tensorflow.keras.layers import Dense\n",
        "from tensorflow.keras.optimizers import Adam\n",
        "\n",
        "import math\n",
        "import matplotlib.animation as animation\n",
        "from tensorflow import keras\n",
        "from keras.layers import Input\n",
        "from keras.layers import Dense\n",
        "from keras.models import Model"
      ],
      "metadata": {
        "id": "uQ1CUW4IUip5"
      },
      "execution_count": null,
      "outputs": []
    },
    {
      "cell_type": "code",
      "source": [
        "!wget https://raw.githubusercontent.com/VladislavasR/PP4/main/electricity_prices.csv"
      ],
      "metadata": {
        "colab": {
          "base_uri": "https://localhost:8080/"
        },
        "id": "XJCMvWviV8eH",
        "outputId": "cd8a28ed-c395-45a3-c37d-bc3030c8e0a8"
      },
      "execution_count": null,
      "outputs": [
        {
          "output_type": "stream",
          "name": "stdout",
          "text": [
            "--2022-09-06 20:04:59--  https://raw.githubusercontent.com/VladislavasR/PP4/main/electricity_prices.csv\n",
            "Resolving raw.githubusercontent.com (raw.githubusercontent.com)... 185.199.110.133, 185.199.109.133, 185.199.111.133, ...\n",
            "Connecting to raw.githubusercontent.com (raw.githubusercontent.com)|185.199.110.133|:443... connected.\n",
            "HTTP request sent, awaiting response... 200 OK\n",
            "Length: 4048368 (3.9M) [text/plain]\n",
            "Saving to: ‘electricity_prices.csv.4’\n",
            "\n",
            "electricity_prices. 100%[===================>]   3.86M  --.-KB/s    in 0.07s   \n",
            "\n",
            "2022-09-06 20:04:59 (53.0 MB/s) - ‘electricity_prices.csv.4’ saved [4048368/4048368]\n",
            "\n"
          ]
        }
      ]
    },
    {
      "cell_type": "code",
      "source": [
        "el_prices = pd.read_csv('electricity_prices.csv')\n",
        "el_prices.info()"
      ],
      "metadata": {
        "colab": {
          "base_uri": "https://localhost:8080/"
        },
        "id": "QBQpDfZfjaAz",
        "outputId": "f517cf32-0f80-492d-aff0-6ce0163f2938"
      },
      "execution_count": null,
      "outputs": [
        {
          "output_type": "stream",
          "name": "stdout",
          "text": [
            "<class 'pandas.core.frame.DataFrame'>\n",
            "RangeIndex: 38014 entries, 0 to 38013\n",
            "Data columns (total 18 columns):\n",
            " #   Column                  Non-Null Count  Dtype \n",
            "---  ------                  --------------  ----- \n",
            " 0   DateTime                38014 non-null  object\n",
            " 1   Holiday                 38014 non-null  object\n",
            " 2   HolidayFlag             38014 non-null  int64 \n",
            " 3   DayOfWeek               38014 non-null  int64 \n",
            " 4   WeekOfYear              38014 non-null  int64 \n",
            " 5   Day                     38014 non-null  int64 \n",
            " 6   Month                   38014 non-null  int64 \n",
            " 7   Year                    38014 non-null  int64 \n",
            " 8   PeriodOfDay             38014 non-null  int64 \n",
            " 9   ForecastWindProduction  38014 non-null  object\n",
            " 10  SystemLoadEA            38014 non-null  object\n",
            " 11  SMPEA                   38014 non-null  object\n",
            " 12  ORKTemperature          38014 non-null  object\n",
            " 13  ORKWindspeed            38014 non-null  object\n",
            " 14  CO2Intensity            38014 non-null  object\n",
            " 15  ActualWindProduction    38014 non-null  object\n",
            " 16  SystemLoadEP2           38014 non-null  object\n",
            " 17  SMPEP2                  38014 non-null  object\n",
            "dtypes: int64(7), object(11)\n",
            "memory usage: 5.2+ MB\n"
          ]
        },
        {
          "output_type": "stream",
          "name": "stderr",
          "text": [
            "/usr/local/lib/python3.7/dist-packages/IPython/core/interactiveshell.py:3326: DtypeWarning: Columns (9,10,11,14,15,16,17) have mixed types.Specify dtype option on import or set low_memory=False.\n",
            "  exec(code_obj, self.user_global_ns, self.user_ns)\n"
          ]
        }
      ]
    },
    {
      "cell_type": "code",
      "source": [
        "el_prices = el_prices.replace('?', np.NaN)\n",
        "el_prices['DateTime']=pd.to_datetime(el_prices['DateTime'], dayfirst=True)"
      ],
      "metadata": {
        "id": "vb_wNFr9GDJV"
      },
      "execution_count": null,
      "outputs": []
    },
    {
      "cell_type": "code",
      "source": [
        "# columns_to_numeric columns changes every time colab is restarted. Need to update which columns change to numeric on every load.\n",
        "columns_to_numeric = ['ForecastWindProduction', 'SystemLoadEA', 'SMPEA', 'ORKTemperature', 'ORKWindspeed', 'CO2Intensity', 'ActualWindProduction', 'SystemLoadEP2', 'SMPEP2']\n",
        "el_prices[columns_to_numeric] = el_prices[columns_to_numeric].apply(pd.to_numeric)"
      ],
      "metadata": {
        "id": "NZzpnrquGMma"
      },
      "execution_count": null,
      "outputs": []
    },
    {
      "cell_type": "code",
      "source": [
        "el_prices.info()"
      ],
      "metadata": {
        "colab": {
          "base_uri": "https://localhost:8080/"
        },
        "id": "5UROVCO9GVsd",
        "outputId": "6d358239-d594-44d1-d497-2ba499c27bad"
      },
      "execution_count": null,
      "outputs": [
        {
          "output_type": "stream",
          "name": "stdout",
          "text": [
            "<class 'pandas.core.frame.DataFrame'>\n",
            "RangeIndex: 38014 entries, 0 to 38013\n",
            "Data columns (total 18 columns):\n",
            " #   Column                  Non-Null Count  Dtype         \n",
            "---  ------                  --------------  -----         \n",
            " 0   DateTime                38014 non-null  datetime64[ns]\n",
            " 1   Holiday                 38014 non-null  object        \n",
            " 2   HolidayFlag             38014 non-null  int64         \n",
            " 3   DayOfWeek               38014 non-null  int64         \n",
            " 4   WeekOfYear              38014 non-null  int64         \n",
            " 5   Day                     38014 non-null  int64         \n",
            " 6   Month                   38014 non-null  int64         \n",
            " 7   Year                    38014 non-null  int64         \n",
            " 8   PeriodOfDay             38014 non-null  int64         \n",
            " 9   ForecastWindProduction  38009 non-null  float64       \n",
            " 10  SystemLoadEA            38012 non-null  float64       \n",
            " 11  SMPEA                   38012 non-null  float64       \n",
            " 12  ORKTemperature          37719 non-null  float64       \n",
            " 13  ORKWindspeed            37715 non-null  float64       \n",
            " 14  CO2Intensity            38007 non-null  float64       \n",
            " 15  ActualWindProduction    38009 non-null  float64       \n",
            " 16  SystemLoadEP2           38012 non-null  float64       \n",
            " 17  SMPEP2                  38012 non-null  float64       \n",
            "dtypes: datetime64[ns](1), float64(9), int64(7), object(1)\n",
            "memory usage: 5.2+ MB\n"
          ]
        }
      ]
    },
    {
      "cell_type": "code",
      "source": [
        "el_prices = el_prices.dropna()"
      ],
      "metadata": {
        "id": "V9_ChD-_yM7i"
      },
      "execution_count": null,
      "outputs": []
    },
    {
      "cell_type": "code",
      "source": [
        "y = el_prices.SMPEP2\n",
        "X_clean = el_prices[['SMPEA','SystemLoadEP2','SystemLoadEA', 'PeriodOfDay']]"
      ],
      "metadata": {
        "id": "iCrlmr3t2On4"
      },
      "execution_count": null,
      "outputs": []
    },
    {
      "cell_type": "code",
      "source": [
        "def normalize(arr):\n",
        "  return (arr - arr.mean()) / arr.std()\n",
        "\n",
        "y_norm = normalize(y)\n",
        "X_norm = normalize(X_clean)"
      ],
      "metadata": {
        "id": "ite6GrWPNZSF"
      },
      "execution_count": null,
      "outputs": []
    },
    {
      "cell_type": "code",
      "source": [
        "inputs = Input(shape=(4,))\n",
        "preds = Dense(1,activation='linear')(inputs)\n",
        "model = Model(inputs=inputs, outputs=preds)\n",
        "model.compile(optimizer=keras.optimizers.SGD(learning_rate=0.01), loss='mse', metrics=['mse'])\n",
        "model.fit(X_norm, y_norm, batch_size=10, epochs=10, verbose=1)"
      ],
      "metadata": {
        "colab": {
          "base_uri": "https://localhost:8080/"
        },
        "id": "rAxPjVRSI0tH",
        "outputId": "00af7fff-2ee5-4fc6-c2b1-c2a8e571e15e"
      },
      "execution_count": null,
      "outputs": [
        {
          "output_type": "stream",
          "name": "stdout",
          "text": [
            "Epoch 1/10\n",
            "3769/3769 [==============================] - 8s 2ms/step - loss: 0.6061 - mse: 0.6061\n",
            "Epoch 2/10\n",
            "3769/3769 [==============================] - 6s 2ms/step - loss: 0.5745 - mse: 0.5745\n",
            "Epoch 3/10\n",
            "3769/3769 [==============================] - 6s 2ms/step - loss: 0.5723 - mse: 0.5723\n",
            "Epoch 4/10\n",
            "3769/3769 [==============================] - 6s 2ms/step - loss: 0.5741 - mse: 0.5741\n",
            "Epoch 5/10\n",
            "3769/3769 [==============================] - 6s 2ms/step - loss: 0.5757 - mse: 0.5757\n",
            "Epoch 6/10\n",
            "3769/3769 [==============================] - 6s 2ms/step - loss: 0.5756 - mse: 0.5756\n",
            "Epoch 7/10\n",
            "3769/3769 [==============================] - 8s 2ms/step - loss: 0.5746 - mse: 0.5746\n",
            "Epoch 8/10\n",
            "3769/3769 [==============================] - 6s 2ms/step - loss: 0.5751 - mse: 0.5751\n",
            "Epoch 9/10\n",
            "3769/3769 [==============================] - 6s 2ms/step - loss: 0.5726 - mse: 0.5726\n",
            "Epoch 10/10\n",
            "3769/3769 [==============================] - 8s 2ms/step - loss: 0.5725 - mse: 0.5725\n"
          ]
        },
        {
          "output_type": "execute_result",
          "data": {
            "text/plain": [
              "<keras.callbacks.History at 0x7f892b8a37d0>"
            ]
          },
          "metadata": {},
          "execution_count": 49
        }
      ]
    },
    {
      "cell_type": "code",
      "source": [
        "inputs = Input(shape=(4,))\n",
        "preds = Dense(1,activation='relu')(inputs)\n",
        "model = Model(inputs=inputs, outputs=preds)\n",
        "model.compile(optimizer=keras.optimizers.SGD(learning_rate=0.01), loss='mse', metrics=['mse'])\n",
        "model.fit(X_norm, y_norm, batch_size=10, epochs=10, verbose=1)"
      ],
      "metadata": {
        "colab": {
          "base_uri": "https://localhost:8080/"
        },
        "id": "dCgPZ9AhO6Kk",
        "outputId": "76e97c9f-8b48-499a-89b4-7af6fb7b22c1"
      },
      "execution_count": null,
      "outputs": [
        {
          "output_type": "stream",
          "name": "stdout",
          "text": [
            "Epoch 1/10\n",
            "3769/3769 [==============================] - 6s 2ms/step - loss: 0.6975 - mse: 0.6975\n",
            "Epoch 2/10\n",
            "3769/3769 [==============================] - 6s 2ms/step - loss: 0.6836 - mse: 0.6836\n",
            "Epoch 3/10\n",
            "3769/3769 [==============================] - 6s 2ms/step - loss: 0.6804 - mse: 0.6804\n",
            "Epoch 4/10\n",
            "3769/3769 [==============================] - 7s 2ms/step - loss: 0.6788 - mse: 0.6788\n",
            "Epoch 5/10\n",
            "3769/3769 [==============================] - 6s 2ms/step - loss: 0.6787 - mse: 0.6787\n",
            "Epoch 6/10\n",
            "3769/3769 [==============================] - 6s 2ms/step - loss: 0.6794 - mse: 0.6794\n",
            "Epoch 7/10\n",
            "3769/3769 [==============================] - 8s 2ms/step - loss: 0.6788 - mse: 0.6788\n",
            "Epoch 8/10\n",
            "3769/3769 [==============================] - 9s 2ms/step - loss: 0.6808 - mse: 0.6808\n",
            "Epoch 9/10\n",
            "3769/3769 [==============================] - 6s 2ms/step - loss: 0.6784 - mse: 0.6784\n",
            "Epoch 10/10\n",
            "3769/3769 [==============================] - 6s 2ms/step - loss: 0.6789 - mse: 0.6789\n"
          ]
        },
        {
          "output_type": "execute_result",
          "data": {
            "text/plain": [
              "<keras.callbacks.History at 0x7f892b804290>"
            ]
          },
          "metadata": {},
          "execution_count": 55
        }
      ]
    },
    {
      "cell_type": "code",
      "source": [
        "X_train, X_test, y_train, y_test = train_test_split(X_norm, y_norm, test_size=0.3, random_state=42)"
      ],
      "metadata": {
        "id": "XVUTu4FlHCwc"
      },
      "execution_count": null,
      "outputs": []
    },
    {
      "cell_type": "code",
      "source": [
        "model = Sequential()\n",
        "model.add(Dense(1, input_shape=(4,), activation='linear'))\n",
        "model.add(Dense(4, activation='relu'))\n",
        "model.add(Dense(1, activation='sigmoid'))\n",
        "model.compile(Adam(learning_rate=0.05), 'mse', metrics=['mse'])"
      ],
      "metadata": {
        "id": "XygHg29gHZkB"
      },
      "execution_count": null,
      "outputs": []
    },
    {
      "cell_type": "code",
      "source": [
        "from tensorflow.keras.utils import plot_model\n",
        "plot_model(model, to_file=\"model.png\", show_shapes=True, show_layer_names=True)"
      ],
      "metadata": {
        "colab": {
          "base_uri": "https://localhost:8080/",
          "height": 422
        },
        "id": "uWElutX8j0HG",
        "outputId": "a3b33560-5078-4411-b72d-68c87beea46c"
      },
      "execution_count": null,
      "outputs": [
        {
          "output_type": "execute_result",
          "data": {
            "image/png": "[encoded data removed]",
            "text/plain": [
              "<IPython.core.display.Image object>"
            ]
          },
          "metadata": {},
          "execution_count": 66
        }
      ]
    },
    {
      "cell_type": "code",
      "source": [
        "from tensorflow.keras.callbacks import EarlyStopping\n",
        "\n",
        "my_callbacks = [EarlyStopping(monitor='mse', patience=5, mode='max')]\n",
        "model.fit(X_train, y_train, epochs=20, verbose=1, validation_data=(X_test, y_test))"
      ],
      "metadata": {
        "colab": {
          "base_uri": "https://localhost:8080/"
        },
        "id": "V31A9va5j_1D",
        "outputId": "e5fe95ea-5ba0-4d9c-b537-4dc94720485a"
      },
      "execution_count": null,
      "outputs": [
        {
          "output_type": "stream",
          "name": "stdout",
          "text": [
            "Epoch 1/20\n",
            "825/825 [==============================] - 2s 3ms/step - loss: 0.7587 - mse: 0.7587 - val_loss: 0.8158 - val_mse: 0.8158\n",
            "Epoch 2/20\n",
            "825/825 [==============================] - 2s 3ms/step - loss: 0.7583 - mse: 0.7583 - val_loss: 0.8167 - val_mse: 0.8167\n",
            "Epoch 3/20\n",
            "825/825 [==============================] - 2s 3ms/step - loss: 0.7576 - mse: 0.7576 - val_loss: 0.8189 - val_mse: 0.8189\n",
            "Epoch 4/20\n",
            "825/825 [==============================] - 2s 3ms/step - loss: 0.7578 - mse: 0.7578 - val_loss: 0.8146 - val_mse: 0.8146\n",
            "Epoch 5/20\n",
            "825/825 [==============================] - 2s 2ms/step - loss: 0.7578 - mse: 0.7578 - val_loss: 0.8136 - val_mse: 0.8136\n",
            "Epoch 6/20\n",
            "825/825 [==============================] - 2s 3ms/step - loss: 0.7575 - mse: 0.7575 - val_loss: 0.8163 - val_mse: 0.8163\n",
            "Epoch 7/20\n",
            "825/825 [==============================] - 2s 3ms/step - loss: 0.7583 - mse: 0.7583 - val_loss: 0.8146 - val_mse: 0.8146\n",
            "Epoch 8/20\n",
            "825/825 [==============================] - 2s 3ms/step - loss: 0.7580 - mse: 0.7580 - val_loss: 0.8180 - val_mse: 0.8180\n",
            "Epoch 9/20\n",
            "825/825 [==============================] - 2s 2ms/step - loss: 0.7583 - mse: 0.7583 - val_loss: 0.8168 - val_mse: 0.8168\n",
            "Epoch 10/20\n",
            "825/825 [==============================] - 2s 3ms/step - loss: 0.7582 - mse: 0.7582 - val_loss: 0.8169 - val_mse: 0.8169\n",
            "Epoch 11/20\n",
            "825/825 [==============================] - 2s 3ms/step - loss: 0.7581 - mse: 0.7581 - val_loss: 0.8186 - val_mse: 0.8186\n",
            "Epoch 12/20\n",
            "825/825 [==============================] - 2s 2ms/step - loss: 0.7588 - mse: 0.7588 - val_loss: 0.8187 - val_mse: 0.8187\n",
            "Epoch 13/20\n",
            "825/825 [==============================] - 2s 3ms/step - loss: 0.7586 - mse: 0.7586 - val_loss: 0.8166 - val_mse: 0.8166\n",
            "Epoch 14/20\n",
            "825/825 [==============================] - 2s 3ms/step - loss: 0.7571 - mse: 0.7571 - val_loss: 0.8145 - val_mse: 0.8145\n",
            "Epoch 15/20\n",
            "825/825 [==============================] - 2s 3ms/step - loss: 0.7576 - mse: 0.7576 - val_loss: 0.8147 - val_mse: 0.8147\n",
            "Epoch 16/20\n",
            "825/825 [==============================] - 2s 3ms/step - loss: 0.7577 - mse: 0.7577 - val_loss: 0.8192 - val_mse: 0.8192\n",
            "Epoch 17/20\n",
            "825/825 [==============================] - 2s 2ms/step - loss: 0.7582 - mse: 0.7582 - val_loss: 0.8162 - val_mse: 0.8162\n",
            "Epoch 18/20\n",
            "825/825 [==============================] - 2s 2ms/step - loss: 0.7570 - mse: 0.7570 - val_loss: 0.8181 - val_mse: 0.8181\n",
            "Epoch 19/20\n",
            "825/825 [==============================] - 2s 2ms/step - loss: 0.7576 - mse: 0.7576 - val_loss: 0.8129 - val_mse: 0.8129\n",
            "Epoch 20/20\n",
            "825/825 [==============================] - 2s 3ms/step - loss: 0.7572 - mse: 0.7572 - val_loss: 0.8152 - val_mse: 0.8152\n"
          ]
        },
        {
          "output_type": "execute_result",
          "data": {
            "text/plain": [
              "<keras.callbacks.History at 0x7f89202033d0>"
            ]
          },
          "metadata": {},
          "execution_count": 69
        }
      ]
    }
  ]
}